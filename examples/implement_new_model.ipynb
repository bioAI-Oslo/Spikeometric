{
 "cells": [
  {
   "attachments": {},
   "cell_type": "markdown",
   "metadata": {},
   "source": [
    "## Implementing your own model"
   ]
  },
  {
   "cell_type": "code",
   "execution_count": 1,
   "metadata": {},
   "outputs": [],
   "source": [
    "import sys\n",
    "import torch\n",
    "import numpy as np\n",
    "import matplotlib.pyplot as plt\n",
    "import seaborn as sns\n",
    "sns.set_theme(\"notebook\")\n",
    "from torch_geometric.loader import DataLoader\n",
    "\n",
    "sys.path.append(\"../\")\n",
    "from spikeometric.models import BaseModel\n",
    "from spikeometric.datasets import NormalGenerator"
   ]
  },
  {
   "attachments": {},
   "cell_type": "markdown",
   "metadata": {},
   "source": [
    "If you want to use simulate using a model that is not already implemented in the package, you can define your own by subclassing the `BaseModel` and implementing the `input`, `nonlinearity` and `emit_spikes` methods. If you also want to include a filter, you can do so by providing an\n",
    "implementation of the `connectivity_filter`. \n",
    "\n",
    "In this example, we will implement model that has a refractory period like the one you find in the `BernoulliGLM` model, uses the rectifier non-linearity like `RectifierLNP` and has a multidimensional stimulus filter."
   ]
  },
  {
   "attachments": {},
   "cell_type": "markdown",
   "metadata": {},
   "source": [
    "In short we want to compute spikes by the following sequence of equations:\n",
    "\n",
    "1. $$g_i(t+1) = \\sum_{j \\in \\mathcal{N}(i)\\cup \\{i\\}} \\mathbf{W}_{j, i} \\cdot \\mathbf{x}_j + \\mathbf{k}\\cdot \\mathbb{f_i}(t+1)$$\n",
    "2. $$\\mu_i(t+1) = \\lambda_0[g_i(t+1) - \\theta]_+$$\n",
    "3. $$x_i(t+1) = \\text{Pois}(\\mu_i(t+1))$$"
   ]
  },
  {
   "attachments": {},
   "cell_type": "markdown",
   "metadata": {},
   "source": [
    "In step 1, $\\mathbf{W}_{j, i}$ holds the synaptic weights between neuron $j$ and $i$ over a fixed number of time steps $T$ (including self-edges that are self-inhibitory for the refractory periods), $\\mathbf{x}_j$ is the spike history of $j$ over the past $T$ time steps, $\\mathbf{k}$ is the stimulus filter and $\\mathbf{f}_i(t+1)$ is the stimulus to $i$ at time step $t+1$.\n",
    "\n",
    "In step 2, $\\lambda_0$ scales the expected spike rate and $\\theta$ is the threshold input needed for the neurons to have non-zero expected firing rate.\n",
    "\n",
    "In step 3, $\\text{Pois}$ is the Poission distribution."
   ]
  },
  {
   "attachments": {},
   "cell_type": "markdown",
   "metadata": {},
   "source": [
    "## Implementation\n",
    "We will describe the implementation process in a step by step fashion, first making the constructor, followed by the `connectivity_filter` and `stimulus_filter` methods before we finish off with the three essential `input`, `non_linearity` and `emit_spikes` methods."
   ]
  },
  {
   "attachments": {},
   "cell_type": "markdown",
   "metadata": {},
   "source": [
    "### Constructor\n",
    "Let's start by making a constructor that sets our arguments as parameters or buffers according to whether we want the them to be tunable or not.\n",
    "\n",
    "We need a few parameters:\n",
    "1. $\\lambda_0$, the scaling of the expected spike rate\n",
    "2. $\\theta$, the threshold input\n",
    "3. $\\Delta t$, the length of the time step in milliseconds\n",
    "4. $T$, the number of time steps to consider back in time \n",
    "4. $r$, a function that determines the recfractory time course\n",
    "5. $w$, a function that determines the time course of the synaptic weights\n",
    "6. $k$, a function that determines the stimulus filter\n"
   ]
  },
  {
   "attachments": {},
   "cell_type": "markdown",
   "metadata": {},
   "source": [
    "Note that, while using functions to specify the filters is convenient, they will not be part of the model's state dict and so can't be saved and loaded like tensors can. They also can't be tuned."
   ]
  },
  {
   "cell_type": "code",
   "execution_count": 2,
   "metadata": {},
   "outputs": [],
   "source": [
    "def __init__(self, lambda_0: float, theta: float, dt: float, T: int, r: callable, w: callable, k: callable, rng=None):\n",
    "    super(self).__init__()\n",
    "    # Buffers\n",
    "    T = T / dt # Convert to number of time steps\n",
    "    self.register_buffer(\"T\", torch.tensor(T, dtype=torch.int))\n",
    "    self.register_buffer(\"dt\", torch.tensor(dt, dtype=torch.float32))\n",
    "\n",
    "    # Parameters\n",
    "    self.register_parameter(\"lambda_0\", torch.nn.Parameter(torch.tensor(lambda_0, dtype=torch.float32)))\n",
    "    self.register_parameter(\"theta\", torch.nn.Parameter(torch.tensor(theta, dtype=torch.float32)))\n",
    "\n",
    "    # Functions\n",
    "    self.r = r\n",
    "    self.w = w\n",
    "    self.k = k\n",
    "\n",
    "    # RNG\n",
    "    self._rng = rng if rng is not None else torch.Generator()\n",
    "\n",
    "    self.requires_grad_(False) # This is set so that the model does not compute gradients by default."
   ]
  },
  {
   "attachments": {},
   "cell_type": "markdown",
   "metadata": {},
   "source": [
    "The buffers are used to store attributes that we want to be part of the state dict but which are not tunable. The parameters __are__ tunable, but since we don't want to compute gradients when we are simulating (this takes a lot of memory and time), gradients are turned off by default with `self.requires_grad_(False)`."
   ]
  },
  {
   "attachments": {},
   "cell_type": "markdown",
   "metadata": {},
   "source": [
    "### Connectivity filter\n",
    "The `connectivity_filter` method lets us expand the synaptic weights to include a time dimension. It should take two arguments, the weights `W0` and the `edge_index` and should return a connectivity filter tensor `W` of dimension `[n_edges, T]` where the element `W[i, t]` should tell us how much a spike at time step `t-T` before the present should be weighted. \n",
    "\n",
    "In our model there will be two types of edges: the coupling edges and the refractory edges. The coupling edges hold the strength and time evolution of synaptic connections and the refractory edges determines the self-inhibition during the refractory period.\n",
    "\n",
    "Based on the `edge_index` we split the edges into coupling and refractory and make use of the `r` and `epsilon` functions we pass to the model to compute the time course of the refractory and coupling edges. They are flipped to get the weights associated with the last time step in the last column."
   ]
  },
  {
   "cell_type": "code",
   "execution_count": 6,
   "metadata": {},
   "outputs": [],
   "source": [
    "def connectivity_filter(self, W0: torch.Tensor, edge_index: torch.Tensor) -> torch.Tensor:\n",
    "    i, j = edge_index # Split the edge index in source and target neurons\n",
    "    is_self_edge = i == j # Boolean mask of self-edges\n",
    "\n",
    "    # Time steps going back T time steps\n",
    "    t = torch.arange(self.T)\n",
    "\n",
    "    refractory_edges = self.r(t).repeat(is_self_edge.sum(), 1) # Refractory edges [n_self_edges, T]\n",
    "    coupling_edges = W0[~is_self_edge].unsqueeze(1) * self.w(t)         # Coupling edges [n_edges - n_self_edges, T]\n",
    "\n",
    "    W = torch.zeros((W0.shape[0], self.T))\n",
    "    W[is_self_edge] = refractory_edges\n",
    "    W[~is_self_edge] = coupling_edges\n",
    "\n",
    "    return W.flip(1)"
   ]
  },
  {
   "attachments": {},
   "cell_type": "markdown",
   "metadata": {},
   "source": [
    "### Stimulus filter\n",
    "We want the model to handle a multidimensional stimulus given to some of the neurons, and must implement a `stimulus_filter` method to determine how this stimulus will be integrated into an input. The function `k` that we pass to the model will help us with this. Note that we are assuming that all targeted neurons receive the same stimulus and that they have the same stimulus filter."
   ]
  },
  {
   "cell_type": "code",
   "execution_count": 7,
   "metadata": {},
   "outputs": [],
   "source": [
    "def stimulus_filter(self, stimulus: torch.Tensor) -> torch.Tensor:\n",
    "    return torch.sum(stimulus*self.k(torch.arange(stimulus.shape[0])))"
   ]
  },
  {
   "attachments": {},
   "cell_type": "markdown",
   "metadata": {},
   "source": [
    "### Input\n",
    "The neurons will receive synaptic input and stimulus input. Both the `synaptic_input` and the `stimulus_input` methods are already implemented in the `BaseModel`. All we need is to call them."
   ]
  },
  {
   "cell_type": "code",
   "execution_count": 8,
   "metadata": {},
   "outputs": [],
   "source": [
    "def input(self, edge_index: torch.Tensor, W: torch.Tensor, state: torch.Tensor, t=-1) -> torch.Tensor:\n",
    "    return self.synaptic_input(edge_index, W, state) + self.stimulus_input(t)"
   ]
  },
  {
   "attachments": {},
   "cell_type": "markdown",
   "metadata": {},
   "source": [
    "### Non-linearity\n",
    "After we have collected the input to the neurons, we need to apply a non-linearity to it. In this case, we use a rectified linear non-linearity. The rate is scaled by the time step to ensure that increasing the resolution of the simulation doesn't artificially increase the firing rate."
   ]
  },
  {
   "cell_type": "code",
   "execution_count": 9,
   "metadata": {},
   "outputs": [],
   "source": [
    "def non_linearity(self, input: torch.Tensor) -> torch.Tensor:\n",
    "    return self.lambda_0*torch.relu(input - self.theta) * self.dt"
   ]
  },
  {
   "attachments": {},
   "cell_type": "markdown",
   "metadata": {},
   "source": [
    "### Emitting spikes\n",
    "Finally, we want to use Poisson spiking."
   ]
  },
  {
   "cell_type": "code",
   "execution_count": 10,
   "metadata": {},
   "outputs": [],
   "source": [
    "def emit_spikes(self, rates: torch.Tensor) -> torch.Tensor:\n",
    "    return torch.poisson(rates, generator=self._rng)"
   ]
  },
  {
   "attachments": {},
   "cell_type": "markdown",
   "metadata": {},
   "source": [
    "## Testing the model\n",
    "Let's now put this all together into a class and run a few simulations to see how it behaves."
   ]
  },
  {
   "cell_type": "code",
   "execution_count": 2,
   "metadata": {},
   "outputs": [],
   "source": [
    "class FilRectLNP(BaseModel):\n",
    "    def __init__(self, lambda_0: float, theta: float, dt: float, T: int, r: callable, w: callable, k: callable, rng=None):\n",
    "        super().__init__()\n",
    "        # Buffers\n",
    "        T = T / dt\n",
    "        self.register_buffer(\"T\", torch.tensor(T, dtype=torch.int))\n",
    "        self.register_buffer(\"dt\", torch.tensor(dt, dtype=torch.float32))\n",
    "\n",
    "        # Parameters\n",
    "        self.register_parameter(\"lambda_0\", torch.nn.Parameter(torch.tensor(lambda_0, dtype=torch.float32)))\n",
    "        self.register_parameter(\"theta\", torch.nn.Parameter(torch.tensor(theta, dtype=torch.float32)))\n",
    "\n",
    "        # Functions\n",
    "        self.r = r\n",
    "        self.w = w\n",
    "        self.k = k\n",
    "\n",
    "        # RNG\n",
    "        self._rng = rng if rng is not None else torch.Generator()\n",
    "\n",
    "        self.requires_grad_(False) # This is set so that the model does not compute gradients by default.\n",
    "\n",
    "    def connectivity_filter(self, W0: torch.Tensor, edge_index: torch.Tensor) -> torch.Tensor:\n",
    "        i, j = edge_index # Split the edge index in source and target neurons\n",
    "        is_self_edge = i == j # Boolean mask of self-edges\n",
    "\n",
    "        # Time steps going back T time steps\n",
    "        t = torch.arange(self.T)\n",
    "\n",
    "        refractory_edges = self.r(t).repeat(is_self_edge.sum(), 1) # Refractory edges [n_self_edges, T]\n",
    "        coupling_edges = W0[~is_self_edge].unsqueeze(1) * self.w(t)         # Coupling edges [n_edges - n_self_edges, T]\n",
    "\n",
    "        W = torch.zeros((W0.shape[0], self.T))\n",
    "        W[is_self_edge] = refractory_edges\n",
    "        W[~is_self_edge] = coupling_edges\n",
    "\n",
    "        return W.flip(1), edge_index\n",
    "\n",
    "    def stimulus_filter(self, stimulus: torch.Tensor) -> torch.Tensor:\n",
    "        if stimulus.ndim == 0:\n",
    "            stimulus = stimulus.unsqueeze(0).unsqueeze(1)\n",
    "        return torch.sum(stimulus*self.k(torch.arange(stimulus.shape[1])))\n",
    "    \n",
    "    def input(self, edge_index: torch.Tensor, W: torch.Tensor, state: torch.Tensor, t=-1) -> torch.Tensor:\n",
    "        return self.synaptic_input(edge_index, W, state) + self.stimulus_input(t)\n",
    "\n",
    "    def non_linearity(self, input: torch.Tensor) -> torch.Tensor:\n",
    "        return self.lambda_0*torch.relu(input - self.theta) * self.dt\n",
    "    \n",
    "    def emit_spikes(self, rates: torch.Tensor) -> torch.Tensor:\n",
    "        return torch.poisson(rates, generator=self._rng)"
   ]
  },
  {
   "attachments": {},
   "cell_type": "markdown",
   "metadata": {},
   "source": [
    "We'll run our model on a dataset of 10 networks with 50 neurons each, with weights drawn from a glorot normal distribution. There are an equal amount of exciitatory and inhibitory neurons, and the networks are 50% sparse.\n",
    "\n",
    "For the filters we'll use exponential filters both for the synaptic weights and the stimulus filter. The stimulus will be noisy periodic in 10 frequency bins with a 20 ms stimulus every 100 ms. "
   ]
  },
  {
   "cell_type": "code",
   "execution_count": 3,
   "metadata": {},
   "outputs": [],
   "source": [
    "n_neurons = 50\n",
    "test_data = NormalGenerator(n_neurons, mean=0, std=0.5, glorot=True).generate(10)\n",
    "loader = DataLoader(test_data, batch_size=2, shuffle=False)\n",
    "\n",
    "def r(t):\n",
    "    return -1000.*(t < 2) + -1000*torch.exp(-2*(t-2))*(t >= 2)*(t<5)\n",
    "\n",
    "def w(t):\n",
    "    return torch.exp(-t/2)\n",
    "\n",
    "def k(f):\n",
    "    return torch.exp(-f)\n",
    "\n",
    "def stimulus(t):\n",
    "    return (torch.arange(50*2) % 50 < 5).unsqueeze(1) * (0.05*torch.rand(5) * (t % 100 < 20))\n",
    "\n",
    "model = FilRectLNP(lambda_0=1, theta=-0.01, dt=1, T=20, r=r, w=w, k=k)"
   ]
  },
  {
   "attachments": {},
   "cell_type": "markdown",
   "metadata": {},
   "source": [
    "As we don't know what kind of behaviour these parameters will lead to a priori, let's tune them so that the network has an average firing rate of about 10 Hz."
   ]
  },
  {
   "cell_type": "code",
   "execution_count": 4,
   "metadata": {},
   "outputs": [
    {
     "name": "stderr",
     "output_type": "stream",
     "text": [
      "Tuning... fr=2.04912: 100%|\u001b[38;2;62;86;65m██████████\u001b[0m| 100/100 [00:12<00:00,  8.32it/s]\n",
      "Tuning... fr=9.66347: 100%|\u001b[38;2;62;86;65m██████████\u001b[0m| 100/100 [00:11<00:00,  8.77it/s]\n",
      "Tuning... fr=10.14253: 100%|\u001b[38;2;62;86;65m██████████\u001b[0m| 100/100 [00:11<00:00,  8.84it/s]\n",
      "Tuning... fr=10.14071: 100%|\u001b[38;2;62;86;65m██████████\u001b[0m| 100/100 [00:11<00:00,  8.74it/s]\n",
      "Tuning... fr=10.06790: 100%|\u001b[38;2;62;86;65m██████████\u001b[0m| 100/100 [00:11<00:00,  9.05it/s]\n"
     ]
    }
   ],
   "source": [
    "for data in loader:\n",
    "    model.tune(data, firing_rate=10., lr=1e-3, n_epochs=100, n_steps=500)"
   ]
  },
  {
   "attachments": {},
   "cell_type": "markdown",
   "metadata": {},
   "source": [
    "The model seems to converge, so we can run the simulation with the stimulus and plot the data"
   ]
  },
  {
   "cell_type": "code",
   "execution_count": 5,
   "metadata": {},
   "outputs": [
    {
     "name": "stderr",
     "output_type": "stream",
     "text": [
      "  0%|\u001b[38;2;62;86;65m          \u001b[0m| 0/10000 [00:00<?, ?it/s]"
     ]
    },
    {
     "name": "stderr",
     "output_type": "stream",
     "text": [
      "100%|\u001b[38;2;62;86;65m██████████\u001b[0m| 10000/10000 [00:02<00:00, 3719.67it/s]\n",
      "100%|\u001b[38;2;62;86;65m██████████\u001b[0m| 10000/10000 [00:02<00:00, 3947.79it/s]\n",
      "100%|\u001b[38;2;62;86;65m██████████\u001b[0m| 10000/10000 [00:02<00:00, 4139.97it/s]\n",
      "100%|\u001b[38;2;62;86;65m██████████\u001b[0m| 10000/10000 [00:02<00:00, 3850.95it/s]\n",
      "100%|\u001b[38;2;62;86;65m██████████\u001b[0m| 10000/10000 [00:02<00:00, 4249.15it/s]\n"
     ]
    }
   ],
   "source": [
    "model.add_stimulus(stimulus)\n",
    "n_steps=10000\n",
    "results = torch.zeros((50*10, n_steps))\n",
    "for i, batch in enumerate(loader):\n",
    "    results[i*batch.num_nodes:(i+1)*batch.num_nodes] = model.simulate(batch, n_steps=n_steps)"
   ]
  },
  {
   "attachments": {},
   "cell_type": "markdown",
   "metadata": {},
   "source": [
    "We'll plot the PTSH, a raster plot and the ISIH to get an overview of what the data looks like. Since the stimulus is periodic we'll plot the average across cycles."
   ]
  },
  {
   "cell_type": "code",
   "execution_count": 6,
   "metadata": {},
   "outputs": [
    {
     "data": {
      "image/png": "[encoded data removed]",
      "text/plain": [
       "<Figure size 1000x500 with 3 Axes>"
      ]
     },
     "metadata": {},
     "output_type": "display_data"
    }
   ],
   "source": [
    "fig = plt.figure(figsize=(10, 5))\n",
    "gs = fig.add_gridspec(2, 2)\n",
    "\n",
    "ax1 = fig.add_subplot(gs[0, 0])\n",
    "ax2 = fig.add_subplot(gs[1, 0])\n",
    "ax3 = fig.add_subplot(gs[:, 1])\n",
    "plt.subplots_adjust(wspace=0.0, hspace=0.0)\n",
    "\n",
    "time_window = 1000 # ms\n",
    "n_neurons = 50 # one network\n",
    "stim_period = 100 # ms (period of the stimulus)\n",
    "time_bin = 10 # ms (bin size for the PSTH)\n",
    "\n",
    "binned_firings = results.reshape(results.shape[0], -1, stim_period).mean(1)\n",
    "isi = model.dt / results.mean(1)\n",
    "\n",
    "ax1.bar(torch.arange(stim_period), binned_firings.sum(0))\n",
    "ax1.set_title('PSTH')\n",
    "ax1.set_xlabel('Time (s)')\n",
    "ax1.set_ylabel('Spike count')\n",
    "\n",
    "ax2.pcolormesh(binned_firings, cmap='binary')\n",
    "ax2.set_title('Raster plot')\n",
    "ax2.set_xlabel('Time (s)')\n",
    "ax2.set_ylabel('Neuron')\n",
    "\n",
    "sns.histplot(isi, ax=ax3, stat='density', bins=100)\n",
    "ax3.set_title('ISIH')\n",
    "ax3.set_ylabel('Normalized count')\n",
    "ax3.set_xlabel('ISI (ms)')\n",
    "\n",
    "plt.tight_layout()\n",
    "plt.show()"
   ]
  },
  {
   "attachments": {},
   "cell_type": "markdown",
   "metadata": {},
   "source": [
    "We can clearly see the effect of the stimulus both on the PTSH and the raster plot. We can also see that the neurons are refractory after they are triggered by the stimulus, a feature we built into the model."
   ]
  }
 ],
 "metadata": {
  "kernelspec": {
   "display_name": "cpu-snn-glm-simulator",
   "language": "python",
   "name": "python3"
  },
  "language_info": {
   "codemirror_mode": {
    "name": "ipython",
    "version": 3
   },
   "file_extension": ".py",
   "mimetype": "text/x-python",
   "name": "python",
   "nbconvert_exporter": "python",
   "pygments_lexer": "ipython3",
   "version": "3.10.9"
  },
  "orig_nbformat": 4,
  "vscode": {
   "interpreter": {
    "hash": "486bfa746ce6de30e13eed08a6396c057eb6c2d72d483be92acf19e52ca97167"
   }
  }
 },
 "nbformat": 4,
 "nbformat_minor": 2
}
